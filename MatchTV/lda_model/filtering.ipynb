{
 "cells": [
  {
   "cell_type": "code",
   "execution_count": 3,
   "metadata": {},
   "outputs": [
    {
     "name": "stdout",
     "output_type": "stream",
     "text": [
      "Filtered messages have been saved to match_30k_filtered_messages.json\n"
     ]
    }
   ],
   "source": [
    "import json\n",
    "import os\n",
    "from datetime import datetime\n",
    "from collections import Counter\n",
    "\n",
    "# Directory containing the JSON files\n",
    "directory_path = \"/Users/anastasyarussu/Downloads/Telegram Desktop/ChatExport_2024-11-22\"\n",
    "\n",
    "# Define the date range\n",
    "include_start_date = datetime.strptime(\"2023-10-01\", \"%Y-%m-%d\")\n",
    "include_end_date = datetime.strptime(\"2024-11-15\", \"%Y-%m-%d\")\n",
    "\n",
    "# List to store messages within the date range\n",
    "filtered_messages = []\n",
    "date_counter = Counter()  # Counter for messages per day\n",
    "\n",
    "# Iterate over all JSON files in the directory\n",
    "for file_name in os.listdir(directory_path):\n",
    "    if file_name.endswith(\".json\"):\n",
    "        file_path = os.path.join(directory_path, file_name)\n",
    "        \n",
    "        with open(file_path, 'r', encoding='utf-8') as file:\n",
    "            try:\n",
    "                # Load the JSON content\n",
    "                data = json.load(file)\n",
    "                messages = data.get(\"messages\", [])  # Access the messages key\n",
    "                \n",
    "                # Iterate over the messages\n",
    "                for message in messages:\n",
    "                    # Parse the message date and make it offset-naive\n",
    "                    message_date_str = message.get(\"date\")\n",
    "                    if not message_date_str:\n",
    "                        continue\n",
    "                    \n",
    "                    message_date = datetime.strptime(message_date_str, \"%Y-%m-%dT%H:%M:%S\").replace(tzinfo=None)\n",
    "                    \n",
    "                    # Include messages within the specified date range\n",
    "                    if include_start_date <= message_date <= include_end_date:\n",
    "                        filtered_messages.append({\n",
    "                            \"message\": message,\n",
    "                            \"date\": message_date\n",
    "                        })\n",
    "                        # Increment the count for the message date\n",
    "                        date_counter[message_date.date()] += 1\n",
    "            except json.JSONDecodeError as e:\n",
    "                print(f\"Error decoding JSON in file {file_name}: {e}\")\n",
    "            except Exception as e:\n",
    "                print(f\"Error processing file {file_name}: {e}\")\n",
    "\n",
    "# Sort the filtered messages by date in descending order\n",
    "filtered_messages.sort(key=lambda x: x[\"date\"], reverse=True)\n",
    "\n",
    "# Select the last 30,000 messages\n",
    "latest_30000_messages = [msg[\"message\"] for msg in filtered_messages[:30000]]\n",
    "\n",
    "# Output the 30,000 most recent filtered messages to a new JSON file\n",
    "output_file = \"match_30k_filtered_messages.json\"\n",
    "with open(output_file, 'w', encoding='utf-8') as out_file:\n",
    "    json.dump(latest_30000_messages, out_file, ensure_ascii=False, indent=4)\n",
    "\n",
    "print(f\"Filtered messages have been saved to {output_file}\")\n"
   ]
  },
  {
   "cell_type": "code",
   "execution_count": 4,
   "metadata": {},
   "outputs": [
    {
     "data": {
      "text/plain": [
       "30000"
      ]
     },
     "execution_count": 4,
     "metadata": {},
     "output_type": "execute_result"
    }
   ],
   "source": [
    "len(latest_30000_messages)"
   ]
  }
 ],
 "metadata": {
  "kernelspec": {
   "display_name": ".venv",
   "language": "python",
   "name": "python3"
  },
  "language_info": {
   "codemirror_mode": {
    "name": "ipython",
    "version": 3
   },
   "file_extension": ".py",
   "mimetype": "text/x-python",
   "name": "python",
   "nbconvert_exporter": "python",
   "pygments_lexer": "ipython3",
   "version": "3.9.6"
  }
 },
 "nbformat": 4,
 "nbformat_minor": 2
}
